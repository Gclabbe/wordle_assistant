{
 "cells": [
  {
   "cell_type": "code",
   "execution_count": 230,
   "id": "8c215f48-f42b-4ed7-8450-016571eb495e",
   "metadata": {},
   "outputs": [],
   "source": [
    "import pandas as pd"
   ]
  },
  {
   "cell_type": "code",
   "execution_count": 231,
   "id": "654ea02b-82fd-43b7-907a-b3de5e517729",
   "metadata": {},
   "outputs": [],
   "source": [
    "data_folder = 'data\\\\'"
   ]
  },
  {
   "cell_type": "markdown",
   "id": "6c2e6453-701f-43b1-94e5-1b9ad07b1d2e",
   "metadata": {},
   "source": [
    "## Data"
   ]
  },
  {
   "cell_type": "markdown",
   "id": "aa078544-3eaa-4052-8d77-07c53e72da4e",
   "metadata": {},
   "source": [
    "### Word frequency\n",
    "Let's start with data from the Word Frequency on Kaggle challenge -- https://www.kaggle.com/rtatman/english-word-frequency\n",
    "\n",
    "This exercise is about trying to match the most frequency English words with the most frequent words in other sources / languages.  We can take this data (a reduced set of the Google corpus) as a manageable size of words to deal with.\n",
    "\n",
    "There are a couple of steps to what needs to happen:\n",
    "1)  Read the data and make sure we understand it\n",
    "2)  Cut down the corpus to only 5-letter words\n",
    "3)  Compute a new column that represents the relative probability of the 5-letter words specifically\n",
    "4)  Extract from all of these words the letter frequency\n"
   ]
  },
  {
   "cell_type": "markdown",
   "id": "159219a7-c4c9-4aaa-b8c6-0ea072cc4fc8",
   "metadata": {},
   "source": [
    "#### Read the data and examine it"
   ]
  },
  {
   "cell_type": "code",
   "execution_count": 232,
   "id": "7f129295-1fde-48d2-90dc-f2a48316d030",
   "metadata": {},
   "outputs": [
    {
     "name": "stdout",
     "output_type": "stream",
     "text": [
      "(333333, 2)\n"
     ]
    },
    {
     "data": {
      "text/html": [
       "<div>\n",
       "<style scoped>\n",
       "    .dataframe tbody tr th:only-of-type {\n",
       "        vertical-align: middle;\n",
       "    }\n",
       "\n",
       "    .dataframe tbody tr th {\n",
       "        vertical-align: top;\n",
       "    }\n",
       "\n",
       "    .dataframe thead th {\n",
       "        text-align: right;\n",
       "    }\n",
       "</style>\n",
       "<table border=\"1\" class=\"dataframe\">\n",
       "  <thead>\n",
       "    <tr style=\"text-align: right;\">\n",
       "      <th></th>\n",
       "      <th>word</th>\n",
       "      <th>count</th>\n",
       "    </tr>\n",
       "  </thead>\n",
       "  <tbody>\n",
       "    <tr>\n",
       "      <th>0</th>\n",
       "      <td>the</td>\n",
       "      <td>23135851162</td>\n",
       "    </tr>\n",
       "    <tr>\n",
       "      <th>1</th>\n",
       "      <td>of</td>\n",
       "      <td>13151942776</td>\n",
       "    </tr>\n",
       "    <tr>\n",
       "      <th>2</th>\n",
       "      <td>and</td>\n",
       "      <td>12997637966</td>\n",
       "    </tr>\n",
       "    <tr>\n",
       "      <th>3</th>\n",
       "      <td>to</td>\n",
       "      <td>12136980858</td>\n",
       "    </tr>\n",
       "    <tr>\n",
       "      <th>4</th>\n",
       "      <td>a</td>\n",
       "      <td>9081174698</td>\n",
       "    </tr>\n",
       "  </tbody>\n",
       "</table>\n",
       "</div>"
      ],
      "text/plain": [
       "  word        count\n",
       "0  the  23135851162\n",
       "1   of  13151942776\n",
       "2  and  12997637966\n",
       "3   to  12136980858\n",
       "4    a   9081174698"
      ]
     },
     "execution_count": 232,
     "metadata": {},
     "output_type": "execute_result"
    }
   ],
   "source": [
    "kaggle_file = 'unigram_freq.csv'\n",
    "freq_all_df = pd.read_csv(f'{data_folder}{kaggle_file}')\n",
    "print(freq_all_df.shape)\n",
    "freq_all_df.head()"
   ]
  },
  {
   "cell_type": "markdown",
   "id": "ab2daa87-57ff-4112-8c14-b7d471978e3a",
   "metadata": {},
   "source": [
    "Pretty simple.  1/3M words and total count in the corpus for each word"
   ]
  },
  {
   "cell_type": "markdown",
   "id": "e2d01d2b-870e-44df-af24-df083e4c907c",
   "metadata": {},
   "source": [
    "#### Cut down the corpus to 5-letter words"
   ]
  },
  {
   "cell_type": "code",
   "execution_count": 233,
   "id": "d09fa9ca-c8df-4d83-ba61-8c879c4c8c08",
   "metadata": {},
   "outputs": [
    {
     "name": "stdout",
     "output_type": "stream",
     "text": [
      "(39933, 2)\n"
     ]
    },
    {
     "data": {
      "text/html": [
       "<div>\n",
       "<style scoped>\n",
       "    .dataframe tbody tr th:only-of-type {\n",
       "        vertical-align: middle;\n",
       "    }\n",
       "\n",
       "    .dataframe tbody tr th {\n",
       "        vertical-align: top;\n",
       "    }\n",
       "\n",
       "    .dataframe thead th {\n",
       "        text-align: right;\n",
       "    }\n",
       "</style>\n",
       "<table border=\"1\" class=\"dataframe\">\n",
       "  <thead>\n",
       "    <tr style=\"text-align: right;\">\n",
       "      <th></th>\n",
       "      <th>word</th>\n",
       "      <th>count</th>\n",
       "    </tr>\n",
       "  </thead>\n",
       "  <tbody>\n",
       "    <tr>\n",
       "      <th>35</th>\n",
       "      <td>about</td>\n",
       "      <td>1226734006</td>\n",
       "    </tr>\n",
       "    <tr>\n",
       "      <th>45</th>\n",
       "      <td>other</td>\n",
       "      <td>978481319</td>\n",
       "    </tr>\n",
       "    <tr>\n",
       "      <th>56</th>\n",
       "      <td>which</td>\n",
       "      <td>810514085</td>\n",
       "    </tr>\n",
       "    <tr>\n",
       "      <th>57</th>\n",
       "      <td>their</td>\n",
       "      <td>782849411</td>\n",
       "    </tr>\n",
       "    <tr>\n",
       "      <th>62</th>\n",
       "      <td>there</td>\n",
       "      <td>701170205</td>\n",
       "    </tr>\n",
       "  </tbody>\n",
       "</table>\n",
       "</div>"
      ],
      "text/plain": [
       "     word       count\n",
       "35  about  1226734006\n",
       "45  other   978481319\n",
       "56  which   810514085\n",
       "57  their   782849411\n",
       "62  there   701170205"
      ]
     },
     "execution_count": 233,
     "metadata": {},
     "output_type": "execute_result"
    }
   ],
   "source": [
    "freq_flw_df = freq_all_df[freq_all_df['word'].str.len() == 5].copy()\n",
    "print(freq_flw_df.shape)\n",
    "freq_flw_df.head()\n"
   ]
  },
  {
   "cell_type": "markdown",
   "id": "584a31d7-bbb9-4d52-bd40-0e021dacae87",
   "metadata": {},
   "source": [
    "Down to 39933 words out of the corpus."
   ]
  },
  {
   "cell_type": "markdown",
   "id": "2355b63c-86c1-461b-8f63-f34195ebfeb0",
   "metadata": {},
   "source": [
    "#### Compute 5-letter word probability"
   ]
  },
  {
   "cell_type": "code",
   "execution_count": 234,
   "id": "a8e2bfd9-dcbe-43a9-b09c-2830cfbca2fc",
   "metadata": {},
   "outputs": [
    {
     "data": {
      "text/html": [
       "<div>\n",
       "<style scoped>\n",
       "    .dataframe tbody tr th:only-of-type {\n",
       "        vertical-align: middle;\n",
       "    }\n",
       "\n",
       "    .dataframe tbody tr th {\n",
       "        vertical-align: top;\n",
       "    }\n",
       "\n",
       "    .dataframe thead th {\n",
       "        text-align: right;\n",
       "    }\n",
       "</style>\n",
       "<table border=\"1\" class=\"dataframe\">\n",
       "  <thead>\n",
       "    <tr style=\"text-align: right;\">\n",
       "      <th></th>\n",
       "      <th>word</th>\n",
       "      <th>count</th>\n",
       "      <th>prob</th>\n",
       "    </tr>\n",
       "  </thead>\n",
       "  <tbody>\n",
       "    <tr>\n",
       "      <th>35</th>\n",
       "      <td>about</td>\n",
       "      <td>1226734006</td>\n",
       "      <td>0.017723</td>\n",
       "    </tr>\n",
       "    <tr>\n",
       "      <th>45</th>\n",
       "      <td>other</td>\n",
       "      <td>978481319</td>\n",
       "      <td>0.014136</td>\n",
       "    </tr>\n",
       "    <tr>\n",
       "      <th>56</th>\n",
       "      <td>which</td>\n",
       "      <td>810514085</td>\n",
       "      <td>0.011709</td>\n",
       "    </tr>\n",
       "    <tr>\n",
       "      <th>57</th>\n",
       "      <td>their</td>\n",
       "      <td>782849411</td>\n",
       "      <td>0.011310</td>\n",
       "    </tr>\n",
       "    <tr>\n",
       "      <th>62</th>\n",
       "      <td>there</td>\n",
       "      <td>701170205</td>\n",
       "      <td>0.010130</td>\n",
       "    </tr>\n",
       "    <tr>\n",
       "      <th>82</th>\n",
       "      <td>first</td>\n",
       "      <td>578161543</td>\n",
       "      <td>0.008353</td>\n",
       "    </tr>\n",
       "    <tr>\n",
       "      <th>85</th>\n",
       "      <td>would</td>\n",
       "      <td>572644147</td>\n",
       "      <td>0.008273</td>\n",
       "    </tr>\n",
       "    <tr>\n",
       "      <th>92</th>\n",
       "      <td>these</td>\n",
       "      <td>541003982</td>\n",
       "      <td>0.007816</td>\n",
       "    </tr>\n",
       "    <tr>\n",
       "      <th>93</th>\n",
       "      <td>click</td>\n",
       "      <td>536746424</td>\n",
       "      <td>0.007754</td>\n",
       "    </tr>\n",
       "    <tr>\n",
       "      <th>100</th>\n",
       "      <td>price</td>\n",
       "      <td>501651226</td>\n",
       "      <td>0.007247</td>\n",
       "    </tr>\n",
       "  </tbody>\n",
       "</table>\n",
       "</div>"
      ],
      "text/plain": [
       "      word       count      prob\n",
       "35   about  1226734006  0.017723\n",
       "45   other   978481319  0.014136\n",
       "56   which   810514085  0.011709\n",
       "57   their   782849411  0.011310\n",
       "62   there   701170205  0.010130\n",
       "82   first   578161543  0.008353\n",
       "85   would   572644147  0.008273\n",
       "92   these   541003982  0.007816\n",
       "93   click   536746424  0.007754\n",
       "100  price   501651226  0.007247"
      ]
     },
     "execution_count": 234,
     "metadata": {},
     "output_type": "execute_result"
    }
   ],
   "source": [
    "total_count = sum(freq_flw_df['count'])\n",
    "probs = [x / total_count for x in freq_flw_df['count']]\n",
    "freq_flw_df['prob'] = probs\n",
    "freq_flw_df.head(10)"
   ]
  },
  {
   "cell_type": "markdown",
   "id": "af6ceca8-2cd9-4923-9994-223f6354d3d6",
   "metadata": {
    "tags": []
   },
   "source": [
    "#### Extract letter frequency\n",
    "Old-school answer is a for loop over each word, counting letters and incrementing a dataframe of letters.  Not a bad approach, just a bit slow.\n",
    "\n",
    "In more recent times, Python and Pandas have tried to create optimized sorting and summary functions to handle this type of work.  First we will create one giant string from all of the words and then feed this string into the Counter funtion."
   ]
  },
  {
   "cell_type": "code",
   "execution_count": 235,
   "id": "6b3a24b4-de5e-4366-af51-465a1575050b",
   "metadata": {},
   "outputs": [
    {
     "data": {
      "text/plain": [
       "[('a', 21942),\n",
       " ('e', 18907),\n",
       " ('o', 14627),\n",
       " ('i', 13749),\n",
       " ('s', 13683),\n",
       " ('r', 12185),\n",
       " ('n', 11447),\n",
       " ('l', 10375),\n",
       " ('t', 9856),\n",
       " ('c', 7422)]"
      ]
     },
     "execution_count": 235,
     "metadata": {},
     "output_type": "execute_result"
    }
   ],
   "source": [
    "from collections import Counter\n",
    "all_words = \"\".join(freq_flw_df['word'])\n",
    "letter_freq = Counter(all_words)\n",
    "letter_freq.most_common(10)"
   ]
  },
  {
   "cell_type": "markdown",
   "id": "5e481806-5f2b-4bac-80e3-99d47caae0dd",
   "metadata": {},
   "source": [
    "Not a huge surprise that a, e, i & o are 4 of the top 5 ... so now we have the first letters to try as our first word ... aeois.\n",
    "\n",
    "Except that each word in Wordle has to be a real word.  If we look down through the list of most common words, the word THEIR has 4 of the top 10 letters in use.  Let's start with that. "
   ]
  },
  {
   "cell_type": "markdown",
   "id": "2bd3d416-c635-4181-9a05-2d1455678de7",
   "metadata": {},
   "source": [
    "### Wordle time"
   ]
  },
  {
   "cell_type": "markdown",
   "id": "1a603e86-f0b1-43bf-be64-f5f38de451ff",
   "metadata": {},
   "source": [
    "#### Round 1 -- enter THEIR\n",
    "green, yellow, or gray\n",
    "\n",
    "green = proper position\n",
    "yellow = proper letter wrong position\n",
    "gray = invalid letter"
   ]
  },
  {
   "cell_type": "code",
   "execution_count": 236,
   "id": "0c40d954-de06-4036-84cf-84f7eb1c48d5",
   "metadata": {},
   "outputs": [],
   "source": [
    "correct_letters = [''] * 5\n",
    "good_letters = []\n",
    "bad_letters = []\n",
    "\n",
    "word_1 = ['t', 'h', 'e', 'i', 'r']\n",
    "result_1 = [\n",
    "    'gray',\n",
    "    'gray',\n",
    "    'gray',\n",
    "    'gray',\n",
    "    'gray'\n",
    "]\n"
   ]
  },
  {
   "cell_type": "markdown",
   "id": "32e713ae-1a19-4848-957b-69d0d593cf02",
   "metadata": {},
   "source": [
    "OK ... now we can eliminate all of the grays, set the value of any greens in the final word and use the yellows to continue digging"
   ]
  },
  {
   "cell_type": "code",
   "execution_count": 237,
   "id": "4ad8a978-ee45-448a-9287-522a5ed76c52",
   "metadata": {},
   "outputs": [
    {
     "name": "stdout",
     "output_type": "stream",
     "text": [
      "['', '', '', '', '']\n",
      "[]\n",
      "['t', 'h', 'e', 'i', 'r']\n"
     ]
    }
   ],
   "source": [
    "def build_rules(word, results, correct, good, bad):\n",
    "    for i in range(5):\n",
    "        result = results[i]\n",
    "        letter = word[i]\n",
    "\n",
    "        if result == 'green':\n",
    "            correct[i] = letter\n",
    "            if letter not in good:\n",
    "                good.append(letter)\n",
    "        elif result == 'yellow':\n",
    "            if letter not in good:\n",
    "                good.append(letter)\n",
    "        else:\n",
    "            if letter not in bad:\n",
    "                bad.append(letter)\n",
    "\n",
    "    return correct, good, bad\n",
    "\n",
    "\n",
    "correct_letters, good_letters, bad_letters = build_rules(\n",
    "    word_1,\n",
    "    result_1,\n",
    "    correct_letters,\n",
    "    good_letters,\n",
    "    bad_letters\n",
    ")\n",
    "\n",
    "print(correct_letters)\n",
    "print(good_letters)\n",
    "print(bad_letters)"
   ]
  },
  {
   "cell_type": "markdown",
   "id": "f372dd1a-fc6a-4d97-8e7f-dfb2086bcbe4",
   "metadata": {
    "tags": []
   },
   "source": [
    "#### Round 2\n",
    "and we're starting to see some repetitive code.  We'll turn those into functions for the final algorithms\n"
   ]
  },
  {
   "cell_type": "markdown",
   "id": "20b759f7-6702-431b-8d7f-49f116802412",
   "metadata": {},
   "source": [
    "#### strip out all words with bad letters"
   ]
  },
  {
   "cell_type": "code",
   "execution_count": 238,
   "id": "ab8a08a1-cd45-43ff-bcc9-ef1e6ec0b220",
   "metadata": {},
   "outputs": [
    {
     "name": "stdout",
     "output_type": "stream",
     "text": [
      "(6473, 3)\n"
     ]
    },
    {
     "data": {
      "text/html": [
       "<div>\n",
       "<style scoped>\n",
       "    .dataframe tbody tr th:only-of-type {\n",
       "        vertical-align: middle;\n",
       "    }\n",
       "\n",
       "    .dataframe tbody tr th {\n",
       "        vertical-align: top;\n",
       "    }\n",
       "\n",
       "    .dataframe thead th {\n",
       "        text-align: right;\n",
       "    }\n",
       "</style>\n",
       "<table border=\"1\" class=\"dataframe\">\n",
       "  <thead>\n",
       "    <tr style=\"text-align: right;\">\n",
       "      <th></th>\n",
       "      <th>word</th>\n",
       "      <th>count</th>\n",
       "      <th>prob</th>\n",
       "    </tr>\n",
       "  </thead>\n",
       "  <tbody>\n",
       "    <tr>\n",
       "      <th>85</th>\n",
       "      <td>would</td>\n",
       "      <td>572644147</td>\n",
       "      <td>0.008273</td>\n",
       "    </tr>\n",
       "    <tr>\n",
       "      <th>162</th>\n",
       "      <td>books</td>\n",
       "      <td>347710184</td>\n",
       "      <td>0.005023</td>\n",
       "    </tr>\n",
       "    <tr>\n",
       "      <th>207</th>\n",
       "      <td>could</td>\n",
       "      <td>302311431</td>\n",
       "      <td>0.004367</td>\n",
       "    </tr>\n",
       "    <tr>\n",
       "      <th>236</th>\n",
       "      <td>local</td>\n",
       "      <td>270742935</td>\n",
       "      <td>0.003911</td>\n",
       "    </tr>\n",
       "    <tr>\n",
       "      <th>270</th>\n",
       "      <td>black</td>\n",
       "      <td>244690155</td>\n",
       "      <td>0.003535</td>\n",
       "    </tr>\n",
       "    <tr>\n",
       "      <th>294</th>\n",
       "      <td>found</td>\n",
       "      <td>232005894</td>\n",
       "      <td>0.003352</td>\n",
       "    </tr>\n",
       "    <tr>\n",
       "      <th>349</th>\n",
       "      <td>small</td>\n",
       "      <td>208371878</td>\n",
       "      <td>0.003010</td>\n",
       "    </tr>\n",
       "    <tr>\n",
       "      <th>387</th>\n",
       "      <td>class</td>\n",
       "      <td>191087771</td>\n",
       "      <td>0.002761</td>\n",
       "    </tr>\n",
       "    <tr>\n",
       "      <th>570</th>\n",
       "      <td>young</td>\n",
       "      <td>136341684</td>\n",
       "      <td>0.001970</td>\n",
       "    </tr>\n",
       "    <tr>\n",
       "      <th>802</th>\n",
       "      <td>sound</td>\n",
       "      <td>100010833</td>\n",
       "      <td>0.001445</td>\n",
       "    </tr>\n",
       "  </tbody>\n",
       "</table>\n",
       "</div>"
      ],
      "text/plain": [
       "      word      count      prob\n",
       "85   would  572644147  0.008273\n",
       "162  books  347710184  0.005023\n",
       "207  could  302311431  0.004367\n",
       "236  local  270742935  0.003911\n",
       "270  black  244690155  0.003535\n",
       "294  found  232005894  0.003352\n",
       "349  small  208371878  0.003010\n",
       "387  class  191087771  0.002761\n",
       "570  young  136341684  0.001970\n",
       "802  sound  100010833  0.001445"
      ]
     },
     "execution_count": 238,
     "metadata": {},
     "output_type": "execute_result"
    }
   ],
   "source": [
    "def remove_bad_words(df, bad_letters):\n",
    "    pattern = ''\n",
    "    for i in range(len(bad_letters)-1):\n",
    "        pattern += f'{bad_letters[i]}|'\n",
    "    pattern += f'{bad_letters[-1]}'\n",
    "    new_df = df[~df['word'].str.contains(pattern, case=False, na=False)]\n",
    "    return new_df\n",
    "\n",
    "\n",
    "r2_words_df = remove_bad_words(freq_flw_df, bad_letters)\n",
    "print(r2_words_df.shape)\n",
    "r2_words_df.head(10)"
   ]
  },
  {
   "cell_type": "markdown",
   "id": "ebad5fe4-43a8-405a-b4d8-8d6afee8b955",
   "metadata": {},
   "source": [
    "#### and keep only words with good letters"
   ]
  },
  {
   "cell_type": "code",
   "execution_count": 239,
   "id": "0daba70d-892a-4f70-aafe-d2f9a5dfca8f",
   "metadata": {},
   "outputs": [
    {
     "name": "stdout",
     "output_type": "stream",
     "text": [
      "(6473, 3)\n"
     ]
    },
    {
     "data": {
      "text/html": [
       "<div>\n",
       "<style scoped>\n",
       "    .dataframe tbody tr th:only-of-type {\n",
       "        vertical-align: middle;\n",
       "    }\n",
       "\n",
       "    .dataframe tbody tr th {\n",
       "        vertical-align: top;\n",
       "    }\n",
       "\n",
       "    .dataframe thead th {\n",
       "        text-align: right;\n",
       "    }\n",
       "</style>\n",
       "<table border=\"1\" class=\"dataframe\">\n",
       "  <thead>\n",
       "    <tr style=\"text-align: right;\">\n",
       "      <th></th>\n",
       "      <th>word</th>\n",
       "      <th>count</th>\n",
       "      <th>prob</th>\n",
       "    </tr>\n",
       "  </thead>\n",
       "  <tbody>\n",
       "    <tr>\n",
       "      <th>85</th>\n",
       "      <td>would</td>\n",
       "      <td>572644147</td>\n",
       "      <td>0.008273</td>\n",
       "    </tr>\n",
       "    <tr>\n",
       "      <th>162</th>\n",
       "      <td>books</td>\n",
       "      <td>347710184</td>\n",
       "      <td>0.005023</td>\n",
       "    </tr>\n",
       "    <tr>\n",
       "      <th>207</th>\n",
       "      <td>could</td>\n",
       "      <td>302311431</td>\n",
       "      <td>0.004367</td>\n",
       "    </tr>\n",
       "    <tr>\n",
       "      <th>236</th>\n",
       "      <td>local</td>\n",
       "      <td>270742935</td>\n",
       "      <td>0.003911</td>\n",
       "    </tr>\n",
       "    <tr>\n",
       "      <th>270</th>\n",
       "      <td>black</td>\n",
       "      <td>244690155</td>\n",
       "      <td>0.003535</td>\n",
       "    </tr>\n",
       "    <tr>\n",
       "      <th>294</th>\n",
       "      <td>found</td>\n",
       "      <td>232005894</td>\n",
       "      <td>0.003352</td>\n",
       "    </tr>\n",
       "    <tr>\n",
       "      <th>349</th>\n",
       "      <td>small</td>\n",
       "      <td>208371878</td>\n",
       "      <td>0.003010</td>\n",
       "    </tr>\n",
       "    <tr>\n",
       "      <th>387</th>\n",
       "      <td>class</td>\n",
       "      <td>191087771</td>\n",
       "      <td>0.002761</td>\n",
       "    </tr>\n",
       "    <tr>\n",
       "      <th>570</th>\n",
       "      <td>young</td>\n",
       "      <td>136341684</td>\n",
       "      <td>0.001970</td>\n",
       "    </tr>\n",
       "    <tr>\n",
       "      <th>802</th>\n",
       "      <td>sound</td>\n",
       "      <td>100010833</td>\n",
       "      <td>0.001445</td>\n",
       "    </tr>\n",
       "  </tbody>\n",
       "</table>\n",
       "</div>"
      ],
      "text/plain": [
       "      word      count      prob\n",
       "85   would  572644147  0.008273\n",
       "162  books  347710184  0.005023\n",
       "207  could  302311431  0.004367\n",
       "236  local  270742935  0.003911\n",
       "270  black  244690155  0.003535\n",
       "294  found  232005894  0.003352\n",
       "349  small  208371878  0.003010\n",
       "387  class  191087771  0.002761\n",
       "570  young  136341684  0.001970\n",
       "802  sound  100010833  0.001445"
      ]
     },
     "execution_count": 239,
     "metadata": {},
     "output_type": "execute_result"
    }
   ],
   "source": [
    "def keep_good_words(df, good_letters, correct_letters):\n",
    "    # cut down to only the words containing all of the good letters\n",
    "    for i in range(len(good_letters)):\n",
    "        df = df[df['word'].str.contains(good_letters[i], case=False)]\n",
    "    \n",
    "    # now we can iterate across this smaller list to check placement of the correct letters\n",
    "    keep_rows = []\n",
    "    for _, row in df.iterrows():\n",
    "        keep = True\n",
    "        for i in range(5):\n",
    "            if correct_letters[i] != '':\n",
    "                if row['word'][i] != correct_letters[i]:\n",
    "                     keep = False\n",
    "\n",
    "        if keep:\n",
    "            keep_rows.append(row)\n",
    "\n",
    "    return pd.DataFrame(keep_rows)\n",
    "\n",
    "r2_words_df = keep_good_words(r2_words_df, good_letters, correct_letters)\n",
    "print(r2_words_df.shape)\n",
    "r2_words_df.head(10)"
   ]
  },
  {
   "cell_type": "code",
   "execution_count": 240,
   "id": "833c0908-8658-42e8-ae4a-4c181f4f8503",
   "metadata": {},
   "outputs": [
    {
     "data": {
      "text/plain": [
       "[('a', 5429),\n",
       " ('o', 4024),\n",
       " ('s', 2742),\n",
       " ('l', 2578),\n",
       " ('n', 2345),\n",
       " ('u', 1726),\n",
       " ('c', 1636),\n",
       " ('m', 1556),\n",
       " ('g', 1455),\n",
       " ('d', 1396)]"
      ]
     },
     "execution_count": 240,
     "metadata": {},
     "output_type": "execute_result"
    }
   ],
   "source": [
    "def letter_freq(df):\n",
    "    all_words = \"\".join(df['word'])\n",
    "    letter_freq = Counter(all_words)\n",
    "    return letter_freq\n",
    "\n",
    "letters = letter_freq(r2_words_df)\n",
    "letters.most_common(10)"
   ]
  },
  {
   "cell_type": "markdown",
   "id": "1e9e26d7-cad9-4ce8-a749-c29a4681276c",
   "metadata": {},
   "source": [
    "OK, now we have a list of remaining words that do not contain any removed letters and also contain all good letters.  Any CORRECT letters should be in place to narrow down the choices.\n",
    "\n",
    "In this first example, the word BOARD has the most letters in the top 5"
   ]
  },
  {
   "cell_type": "markdown",
   "id": "ba7bfc76-b6e0-42c5-b5d6-106352bbae8f",
   "metadata": {},
   "source": [
    "### Round 3"
   ]
  },
  {
   "cell_type": "code",
   "execution_count": 241,
   "id": "32979e3d-7283-4ef5-a08f-a33e61d996ef",
   "metadata": {},
   "outputs": [],
   "source": [
    "word_2 = ['c', 'o', 'u', 'l', 'd']\n",
    "result_2 = [\n",
    "    'green',\n",
    "    'gray',\n",
    "    'green',\n",
    "    'green',\n",
    "    'gray'\n",
    "]\n"
   ]
  },
  {
   "cell_type": "code",
   "execution_count": 242,
   "id": "1eaa53cc-0fb0-47ec-96b7-ee2aa11c7351",
   "metadata": {},
   "outputs": [],
   "source": [
    "correct_letters, good_letters, bad_letters = build_rules(\n",
    "    word_2,\n",
    "    result_2,\n",
    "    correct_letters,\n",
    "    good_letters,\n",
    "    bad_letters\n",
    ")\n",
    "\n",
    "r3_words_df = remove_bad_words(r2_words_df, bad_letters)\n",
    "r3_words_df = keep_good_words(r3_words_df, good_letters, correct_letters)\n",
    "letters = letter_freq(r3_words_df)\n"
   ]
  },
  {
   "cell_type": "code",
   "execution_count": 243,
   "id": "3e58ba63-8089-449e-ada7-98d3a1127350",
   "metadata": {},
   "outputs": [
    {
     "name": "stdout",
     "output_type": "stream",
     "text": [
      "['c', '', 'u', 'l', '']\n",
      "['c', 'u', 'l']\n",
      "['t', 'h', 'e', 'i', 'r', 'o', 'd']\n",
      "(3, 3)\n",
      "[('c', 3), ('u', 3), ('l', 3), ('a', 2), ('s', 2), ('k', 1), ('b', 1)]\n"
     ]
    },
    {
     "data": {
      "text/html": [
       "<div>\n",
       "<style scoped>\n",
       "    .dataframe tbody tr th:only-of-type {\n",
       "        vertical-align: middle;\n",
       "    }\n",
       "\n",
       "    .dataframe tbody tr th {\n",
       "        vertical-align: top;\n",
       "    }\n",
       "\n",
       "    .dataframe thead th {\n",
       "        text-align: right;\n",
       "    }\n",
       "</style>\n",
       "<table border=\"1\" class=\"dataframe\">\n",
       "  <thead>\n",
       "    <tr style=\"text-align: right;\">\n",
       "      <th></th>\n",
       "      <th>word</th>\n",
       "      <th>count</th>\n",
       "      <th>prob</th>\n",
       "    </tr>\n",
       "  </thead>\n",
       "  <tbody>\n",
       "    <tr>\n",
       "      <th>59571</th>\n",
       "      <td>caulk</td>\n",
       "      <td>245944</td>\n",
       "      <td>3.553138e-06</td>\n",
       "    </tr>\n",
       "    <tr>\n",
       "      <th>92706</th>\n",
       "      <td>csulb</td>\n",
       "      <td>113291</td>\n",
       "      <td>1.636708e-06</td>\n",
       "    </tr>\n",
       "    <tr>\n",
       "      <th>247370</th>\n",
       "      <td>csula</td>\n",
       "      <td>21559</td>\n",
       "      <td>3.114616e-07</td>\n",
       "    </tr>\n",
       "  </tbody>\n",
       "</table>\n",
       "</div>"
      ],
      "text/plain": [
       "         word   count          prob\n",
       "59571   caulk  245944  3.553138e-06\n",
       "92706   csulb  113291  1.636708e-06\n",
       "247370  csula   21559  3.114616e-07"
      ]
     },
     "execution_count": 243,
     "metadata": {},
     "output_type": "execute_result"
    }
   ],
   "source": [
    "print(correct_letters)\n",
    "print(good_letters)\n",
    "print(bad_letters)\n",
    "\n",
    "print(r3_words_df.shape)\n",
    "print(letters.most_common(10))\n",
    "r3_words_df.head(10)"
   ]
  },
  {
   "cell_type": "markdown",
   "id": "2eadda20-707a-4823-b79d-d41dfefc90cf",
   "metadata": {},
   "source": [
    "Only 3 remain.  And now we have a few more letters to took for.  Knowing that 'r' does not belong in the 4th or 5th letter, letter 2 is not 'o' and letter 3 is not 'a'.  Need to code up a filter that can kill items that break these rules."
   ]
  },
  {
   "cell_type": "markdown",
   "id": "ad85bb29-b974-46b5-90f4-377e8bf4340d",
   "metadata": {},
   "source": [
    "### Round 4"
   ]
  },
  {
   "cell_type": "markdown",
   "id": "d72d889d-1eb0-4691-b224-eb75452adac4",
   "metadata": {},
   "source": [
    "From this, next best guess would be group ... right now we do not have a good solution to make sure we are not about to try keep track of where a letter should NOT be.  If we can build that this can likely be fully automated with the highest statistical probability being used."
   ]
  },
  {
   "cell_type": "code",
   "execution_count": 216,
   "id": "6b55a9f6-f3c4-45ed-b8fb-26ef13d1fa44",
   "metadata": {},
   "outputs": [],
   "source": [
    "word_3 = ['c', 'a', 'u', 'l', 'k']\n",
    "result_3 = [\n",
    "    'green',\n",
    "    'green',\n",
    "    'green',\n",
    "    'green',\n",
    "    'green'\n",
    "]\n"
   ]
  },
  {
   "cell_type": "code",
   "execution_count": 217,
   "id": "125cdca5-1db2-4aa0-b0ae-06d1bc5a70c7",
   "metadata": {},
   "outputs": [],
   "source": [
    "correct_letters, good_letters, bad_letters = build_rules(\n",
    "    word_3,\n",
    "    result_3,\n",
    "    correct_letters,\n",
    "    good_letters,\n",
    "    bad_letters\n",
    ")\n",
    "\n",
    "r4_words_df = remove_bad_words(r3_words_df, bad_letters)\n",
    "r4_words_df = keep_good_words(r4_words_df, good_letters, correct_letters)\n",
    "letters = letter_freq(r4_words_df)\n"
   ]
  },
  {
   "cell_type": "code",
   "execution_count": 218,
   "id": "3ac6312e-de51-414b-a8a8-ac1d1e4c1085",
   "metadata": {},
   "outputs": [
    {
     "name": "stdout",
     "output_type": "stream",
     "text": [
      "['a', 'r', 'o', '', '']\n",
      "['r', 'o', 'a']\n",
      "['t', 'h', 'e', 'i', 'b', 'd', 'u', 'w']\n",
      "(6, 3)\n",
      "[('r', 3275), ('a', 2557), ('o', 1612), ('s', 896), ('n', 698), ('d', 672), ('u', 672), ('c', 601), ('m', 557), ('b', 501)]\n"
     ]
    },
    {
     "data": {
      "text/html": [
       "<div>\n",
       "<style scoped>\n",
       "    .dataframe tbody tr th:only-of-type {\n",
       "        vertical-align: middle;\n",
       "    }\n",
       "\n",
       "    .dataframe tbody tr th {\n",
       "        vertical-align: top;\n",
       "    }\n",
       "\n",
       "    .dataframe thead th {\n",
       "        text-align: right;\n",
       "    }\n",
       "</style>\n",
       "<table border=\"1\" class=\"dataframe\">\n",
       "  <thead>\n",
       "    <tr style=\"text-align: right;\">\n",
       "      <th></th>\n",
       "      <th>word</th>\n",
       "      <th>count</th>\n",
       "      <th>prob</th>\n",
       "    </tr>\n",
       "  </thead>\n",
       "  <tbody>\n",
       "    <tr>\n",
       "      <th>17422</th>\n",
       "      <td>aroma</td>\n",
       "      <td>2018777</td>\n",
       "      <td>2.916515e-05</td>\n",
       "    </tr>\n",
       "    <tr>\n",
       "      <th>50754</th>\n",
       "      <td>arora</td>\n",
       "      <td>324655</td>\n",
       "      <td>4.690271e-06</td>\n",
       "    </tr>\n",
       "    <tr>\n",
       "      <th>87677</th>\n",
       "      <td>arosa</td>\n",
       "      <td>124877</td>\n",
       "      <td>1.804090e-06</td>\n",
       "    </tr>\n",
       "    <tr>\n",
       "      <th>102065</th>\n",
       "      <td>arona</td>\n",
       "      <td>95660</td>\n",
       "      <td>1.381994e-06</td>\n",
       "    </tr>\n",
       "    <tr>\n",
       "      <th>180494</th>\n",
       "      <td>aroon</td>\n",
       "      <td>36090</td>\n",
       "      <td>5.213900e-07</td>\n",
       "    </tr>\n",
       "    <tr>\n",
       "      <th>182818</th>\n",
       "      <td>arons</td>\n",
       "      <td>35316</td>\n",
       "      <td>5.102081e-07</td>\n",
       "    </tr>\n",
       "  </tbody>\n",
       "</table>\n",
       "</div>"
      ],
      "text/plain": [
       "         word    count          prob\n",
       "17422   aroma  2018777  2.916515e-05\n",
       "50754   arora   324655  4.690271e-06\n",
       "87677   arosa   124877  1.804090e-06\n",
       "102065  arona    95660  1.381994e-06\n",
       "180494  aroon    36090  5.213900e-07\n",
       "182818  arons    35316  5.102081e-07"
      ]
     },
     "execution_count": 218,
     "metadata": {},
     "output_type": "execute_result"
    }
   ],
   "source": [
    "print(correct_letters)\n",
    "print(good_letters)\n",
    "print(bad_letters)\n",
    "\n",
    "print(r4_words_df.shape)\n",
    "print(letters.most_common(10))\n",
    "r4_words_df.head(10)"
   ]
  },
  {
   "cell_type": "markdown",
   "id": "501d04b2-2c17-4aa6-8559-5b24f31fc216",
   "metadata": {},
   "source": [
    "And now we have 6 words to look into for the next attempt"
   ]
  },
  {
   "cell_type": "markdown",
   "id": "ad17550d-3722-4cd0-ab8a-8e294079e882",
   "metadata": {},
   "source": [
    "### Round 5"
   ]
  },
  {
   "cell_type": "code",
   "execution_count": 184,
   "id": "3b3b687e-2c78-42ce-865f-773099cda083",
   "metadata": {},
   "outputs": [],
   "source": [
    "word_3 = ['a', 'r', 'o', 'm', 'a']\n",
    "result_3 = [\n",
    "    'gray',\n",
    "    'green',\n",
    "    'green',\n",
    "    'gray',\n",
    "    'gray'\n",
    "]\n"
   ]
  },
  {
   "cell_type": "code",
   "execution_count": 186,
   "id": "847a17b9-33d3-41df-a948-7bf9ad76fc72",
   "metadata": {},
   "outputs": [],
   "source": [
    "correct_letters, good_letters, bad_letters = build_rules(\n",
    "    word_3,\n",
    "    result_3,\n",
    "    correct_letters,\n",
    "    good_letters,\n",
    "    bad_letters\n",
    ")\n",
    "\n",
    "r4_words_df = remove_bad_words(r3_words_df, bad_letters)\n",
    "r4_words_df = keep_good_words(r4_words_df, good_letters, correct_letters)\n",
    "letters = letter_freq(r4_words_df)\n"
   ]
  },
  {
   "cell_type": "code",
   "execution_count": 187,
   "id": "e844db13-339b-4128-bcd3-77af363c923b",
   "metadata": {},
   "outputs": [
    {
     "name": "stdout",
     "output_type": "stream",
     "text": [
      "['', 'r', 'o', '', '']\n",
      "['r', 'o', 'a']\n",
      "['t', 'h', 'e', 'i', 'b', 'd', 'g', 'u', 'p']\n",
      "(56, 3)\n",
      "[('r', 3275), ('a', 2557), ('o', 1612), ('s', 896), ('n', 698), ('d', 672), ('u', 672), ('c', 601), ('m', 557), ('b', 501)]\n"
     ]
    },
    {
     "data": {
      "text/html": [
       "<div>\n",
       "<style scoped>\n",
       "    .dataframe tbody tr th:only-of-type {\n",
       "        vertical-align: middle;\n",
       "    }\n",
       "\n",
       "    .dataframe tbody tr th {\n",
       "        vertical-align: top;\n",
       "    }\n",
       "\n",
       "    .dataframe thead th {\n",
       "        text-align: right;\n",
       "    }\n",
       "</style>\n",
       "<table border=\"1\" class=\"dataframe\">\n",
       "  <thead>\n",
       "    <tr style=\"text-align: right;\">\n",
       "      <th></th>\n",
       "      <th>word</th>\n",
       "      <th>count</th>\n",
       "      <th>prob</th>\n",
       "    </tr>\n",
       "  </thead>\n",
       "  <tbody>\n",
       "    <tr>\n",
       "      <th>1082</th>\n",
       "      <td>cross</td>\n",
       "      <td>74230978</td>\n",
       "      <td>0.001072</td>\n",
       "    </tr>\n",
       "    <tr>\n",
       "      <th>4218</th>\n",
       "      <td>crown</td>\n",
       "      <td>16651038</td>\n",
       "      <td>0.000241</td>\n",
       "    </tr>\n",
       "    <tr>\n",
       "      <th>17422</th>\n",
       "      <td>aroma</td>\n",
       "      <td>2018777</td>\n",
       "      <td>0.000029</td>\n",
       "    </tr>\n",
       "    <tr>\n",
       "      <th>20127</th>\n",
       "      <td>krona</td>\n",
       "      <td>1585436</td>\n",
       "      <td>0.000023</td>\n",
       "    </tr>\n",
       "    <tr>\n",
       "      <th>22603</th>\n",
       "      <td>crows</td>\n",
       "      <td>1294733</td>\n",
       "      <td>0.000019</td>\n",
       "    </tr>\n",
       "    <tr>\n",
       "      <th>25334</th>\n",
       "      <td>crook</td>\n",
       "      <td>1067661</td>\n",
       "      <td>0.000015</td>\n",
       "    </tr>\n",
       "    <tr>\n",
       "      <th>27589</th>\n",
       "      <td>crock</td>\n",
       "      <td>918524</td>\n",
       "      <td>0.000013</td>\n",
       "    </tr>\n",
       "    <tr>\n",
       "      <th>31299</th>\n",
       "      <td>frown</td>\n",
       "      <td>742356</td>\n",
       "      <td>0.000011</td>\n",
       "    </tr>\n",
       "    <tr>\n",
       "      <th>32762</th>\n",
       "      <td>kroon</td>\n",
       "      <td>687367</td>\n",
       "      <td>0.000010</td>\n",
       "    </tr>\n",
       "    <tr>\n",
       "      <th>47472</th>\n",
       "      <td>kroll</td>\n",
       "      <td>363969</td>\n",
       "      <td>0.000005</td>\n",
       "    </tr>\n",
       "  </tbody>\n",
       "</table>\n",
       "</div>"
      ],
      "text/plain": [
       "        word     count      prob\n",
       "1082   cross  74230978  0.001072\n",
       "4218   crown  16651038  0.000241\n",
       "17422  aroma   2018777  0.000029\n",
       "20127  krona   1585436  0.000023\n",
       "22603  crows   1294733  0.000019\n",
       "25334  crook   1067661  0.000015\n",
       "27589  crock    918524  0.000013\n",
       "31299  frown    742356  0.000011\n",
       "32762  kroon    687367  0.000010\n",
       "47472  kroll    363969  0.000005"
      ]
     },
     "execution_count": 187,
     "metadata": {},
     "output_type": "execute_result"
    }
   ],
   "source": [
    "print(correct_letters)\n",
    "print(good_letters)\n",
    "print(bad_letters)\n",
    "\n",
    "print(r4_words_df.shape)\n",
    "print(letters.most_common(10))\n",
    "r4_words_df.head(10)"
   ]
  },
  {
   "cell_type": "markdown",
   "id": "a87792b1-c72d-4376-acff-bc25b34cae68",
   "metadata": {},
   "source": [
    "And now we have 56 words to look into for the next attempt"
   ]
  },
  {
   "cell_type": "code",
   "execution_count": null,
   "id": "5eabc139-48d6-4576-91b0-9f2f5d3ed097",
   "metadata": {},
   "outputs": [],
   "source": []
  }
 ],
 "metadata": {
  "kernelspec": {
   "display_name": "Python 3 (ipykernel)",
   "language": "python",
   "name": "python3"
  },
  "language_info": {
   "codemirror_mode": {
    "name": "ipython",
    "version": 3
   },
   "file_extension": ".py",
   "mimetype": "text/x-python",
   "name": "python",
   "nbconvert_exporter": "python",
   "pygments_lexer": "ipython3",
   "version": "3.9.7"
  }
 },
 "nbformat": 4,
 "nbformat_minor": 5
}
