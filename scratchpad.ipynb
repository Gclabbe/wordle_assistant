{
 "cells": [
  {
   "cell_type": "code",
   "execution_count": 1,
   "id": "1e933ed4-8200-479c-ad72-a0850fa608b4",
   "metadata": {},
   "outputs": [],
   "source": [
    "import pandas as pd\n",
    "import numpy as np\n",
    "import time\n"
   ]
  },
  {
   "cell_type": "code",
   "execution_count": 134,
   "id": "e6d21c92-27ba-4f2f-8285-4b0229dec687",
   "metadata": {},
   "outputs": [
    {
     "data": {
      "text/plain": [
       "(50, 4)"
      ]
     },
     "execution_count": 134,
     "metadata": {},
     "output_type": "execute_result"
    }
   ],
   "source": [
    "array_size = 10\n",
    "\n",
    "e = pd.Series([98.0, np.nan, 99.0, np.nan, 100.0]*array_size)\n",
    "b = pd.Series([np.nan, np.nan, 4.0, 5.0, 6.0]*array_size)\n",
    "bf = pd.Series([22.0, 33.0, 44.0, 55.0, 66.0]*array_size)\n",
    "ss = pd.Series([11.0]*5*array_size)\n",
    "df = pd.DataFrame({'e': e, 'b': b, 'bf': bf, 'ss': ss})\n",
    "df.shape"
   ]
  },
  {
   "cell_type": "markdown",
   "id": "8b2b05e6-ceac-4cc7-9a0a-4018e690878f",
   "metadata": {},
   "source": [
    "### Current function\n"
   ]
  },
  {
   "cell_type": "code",
   "execution_count": 138,
   "id": "c6af3548-ff7d-48c4-864b-71377ad66fcb",
   "metadata": {},
   "outputs": [],
   "source": [
    "def current_function(e, b, bf, ss):    \n",
    "    if np.isnan(e) and np.isnan(b):\n",
    "        return np.nan\n",
    "    elif np.isnan(e) or np.isnan(b):\n",
    "        return b if np.isnan(e) else e\n",
    "    else:\n",
    "        w = bf / (bf + ss)\n",
    "        return w * b + (1 - w) * e\n",
    "\n",
    "    \n",
    "def f_2(e, b, bf, ss):\n",
    "    if (e * b) is np.nan:\n",
    "        return b if (e is np.nan) else (e if (b is np.nan) else np.nan)\n",
    "\n",
    "    w = bf / (bf + ss)\n",
    "    return w * b + (1 - w) * e\n"
   ]
  },
  {
   "cell_type": "code",
   "execution_count": 137,
   "id": "4cdd8f31-d7f2-4ee7-abf6-2ab6d8593aa3",
   "metadata": {},
   "outputs": [
    {
     "name": "stdout",
     "output_type": "stream",
     "text": [
      "123 µs ± 504 ns per loop (mean ± std. dev. of 7 runs, 10,000 loops each)\n"
     ]
    }
   ],
   "source": [
    "v_func = np.vectorize(current_function)\n",
    "\n",
    "%timeit v_func(df.e.values, df.b.values, df.bf.values, df.ss.values)\n",
    "v = v_func(df.e.values, df.b.values, df.bf.values, df.ss.values)\n"
   ]
  },
  {
   "cell_type": "code",
   "execution_count": 139,
   "id": "3c8617e9-6ea2-44de-936b-4164da61de74",
   "metadata": {},
   "outputs": [
    {
     "name": "stdout",
     "output_type": "stream",
     "text": [
      "51.1 µs ± 362 ns per loop (mean ± std. dev. of 7 runs, 10,000 loops each)\n"
     ]
    },
    {
     "data": {
      "text/plain": [
       "array([        nan,         nan, 23.        ,         nan, 19.42857143,\n",
       "               nan,         nan, 23.        ,         nan, 19.42857143,\n",
       "               nan,         nan, 23.        ,         nan, 19.42857143,\n",
       "               nan,         nan, 23.        ,         nan, 19.42857143,\n",
       "               nan,         nan, 23.        ,         nan, 19.42857143,\n",
       "               nan,         nan, 23.        ,         nan, 19.42857143,\n",
       "               nan,         nan, 23.        ,         nan, 19.42857143,\n",
       "               nan,         nan, 23.        ,         nan, 19.42857143,\n",
       "               nan,         nan, 23.        ,         nan, 19.42857143,\n",
       "               nan,         nan, 23.        ,         nan, 19.42857143])"
      ]
     },
     "execution_count": 139,
     "metadata": {},
     "output_type": "execute_result"
    }
   ],
   "source": [
    "v_func = np.vectorize(f_2)\n",
    "\n",
    "%timeit v_func(df.e.values, df.b.values, df.bf.values, df.ss.values)\n",
    "v = v_func(df.e.values, df.b.values, df.bf.values, df.ss.values)\n",
    "v"
   ]
  },
  {
   "cell_type": "code",
   "execution_count": 125,
   "id": "cee7723a-e3c1-48bc-ab69-329197fd4958",
   "metadata": {},
   "outputs": [],
   "source": [
    "def f_4(e, b, bf, ss):\n",
    "    w_b = bf / (bf + ss) * (b / b)\n",
    "    w_e = (1 - w_b) * (e / e)\n",
    "    \n",
    "    \n",
    "    w = np.where(np.isnan(e*b), np.nan)\n",
    "    w = 0 if np.isnan(b) else w\n",
    "    w = np.nan if np.isnan(e * b) else w\n",
    "\n",
    "    return w * b + (1 - w) * e"
   ]
  },
  {
   "cell_type": "code",
   "execution_count": 126,
   "id": "7f403f4f-c133-4a15-aebe-474fa6f264cc",
   "metadata": {},
   "outputs": [
    {
     "name": "stdout",
     "output_type": "stream",
     "text": [
      "889 µs ± 3.3 µs per loop (mean ± std. dev. of 7 runs, 1,000 loops each)\n"
     ]
    }
   ],
   "source": [
    "v_func = np.vectorize(f_4)\n",
    "\n",
    "%timeit v_func(df.e.values, df.b.values, df.bf.values, df.ss.values)\n",
    "v = v_func(df.e.values, df.b.values, df.bf.values, df.ss.values)\n"
   ]
  },
  {
   "cell_type": "code",
   "execution_count": 128,
   "id": "24b5d1d6-fe56-4dd5-8a14-83dfc215c049",
   "metadata": {},
   "outputs": [
    {
     "data": {
      "text/plain": [
       "True"
      ]
     },
     "execution_count": 128,
     "metadata": {},
     "output_type": "execute_result"
    }
   ],
   "source": [
    "e = np.nan\n",
    "e is np.nan"
   ]
  }
 ],
 "metadata": {
  "kernelspec": {
   "display_name": "Python 3 (ipykernel)",
   "language": "python",
   "name": "python3"
  },
  "language_info": {
   "codemirror_mode": {
    "name": "ipython",
    "version": 3
   },
   "file_extension": ".py",
   "mimetype": "text/x-python",
   "name": "python",
   "nbconvert_exporter": "python",
   "pygments_lexer": "ipython3",
   "version": "3.9.10"
  }
 },
 "nbformat": 4,
 "nbformat_minor": 5
}
