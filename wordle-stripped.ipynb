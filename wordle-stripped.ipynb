{
 "cells": [
  {
   "cell_type": "code",
   "execution_count": 5,
   "id": "8c215f48-f42b-4ed7-8450-016571eb495e",
   "metadata": {
    "tags": []
   },
   "outputs": [],
   "source": [
    "import pandas as pd\n",
    "from collections import Counter\n",
    "import pprint as pp\n",
    "import datetime as dt\n",
    "from game_engine import wordle_game "
   ]
  },
  {
   "cell_type": "code",
   "execution_count": 6,
   "id": "7f129295-1fde-48d2-90dc-f2a48316d030",
   "metadata": {
    "tags": []
   },
   "outputs": [],
   "source": [
    "data_folder = \"data\"\n",
    "data_file = 'unigram_freq.csv'\n",
    "results_folder = \"\"\n",
    "results_file = \"wordle_scores.csv\"\n",
    "game_num = 30"
   ]
  },
  {
   "cell_type": "code",
   "execution_count": 11,
   "id": "a8e2bfd9-dcbe-43a9-b09c-2830cfbca2fc",
   "metadata": {},
   "outputs": [
    {
     "name": "stdout",
     "output_type": "stream",
     "text": [
      "Words in corpus 333333\n",
      "Count of 5 Letter Words 39933\n",
      "Highest frequency 5 letter words\n",
      "   index   word       count      prob\n",
      "0     35  about  1226734006  0.017723\n",
      "1     45  other   978481319  0.014136\n",
      "2     56  which   810514085  0.011709\n",
      "3     57  their   782849411  0.011310\n",
      "4     62  there   701170205  0.010130\n",
      "5     82  first   578161543  0.008353\n",
      "6     85  would   572644147  0.008273\n",
      "7     92  these   541003982  0.007816\n",
      "8     93  click   536746424  0.007754\n",
      "9    100  price   501651226  0.007247\n",
      "Highest frequency letters\n",
      "[('a', 21942), ('e', 18907), ('o', 14627), ('i', 13749), ('s', 13683), ('r', 12185), ('n', 11447), ('l', 10375), ('t', 9856), ('c', 7422)]\n",
      "\n",
      "Remaining word count 39933\n",
      "[['about', 1032.06],\n",
      " ['other', 865.24],\n",
      " ['which', 0.0],\n",
      " ['their', 682.32],\n",
      " ['there', 0.0],\n",
      " ['first', 440.03],\n",
      " ['would', 340.59],\n",
      " ['these', 0.0],\n",
      " ['click', 0.0],\n",
      " ['price', 418.71]]\n"
     ]
    }
   ],
   "source": [
    "game = wordle_game(game_num, folder=results_folder, filename=results_file)\n",
    "game.load_data(data_folder, data_file)\n",
    "game.prep_data()\n",
    "game.recommend_next(dupe_letters=False)\n"
   ]
  },
  {
   "cell_type": "code",
   "execution_count": 14,
   "id": "32979e3d-7283-4ef5-a08f-a33e61d996ef",
   "metadata": {
    "pycharm": {
     "name": "#%%\n"
    }
   },
   "outputs": [
    {
     "name": "stdout",
     "output_type": "stream",
     "text": [
      "\n",
      "Round Number 3\n",
      "\n",
      "\n",
      "(\"Correct= {0: {'is': None, 'is_not': []}, 1: {'is': None, 'is_not': []}, 2: \"\n",
      " \"{'is': 'o', 'is_not': []}, 3: {'is': 'u', 'is_not': ['o']}, 4: {'is': 'r', \"\n",
      " \"'is_not': []}}\")\n",
      "\"Good\\t= ['r', 'o', 'u']\"\n",
      "\"Bad\\t= ['t', 'h', 'e', 'i', 'm', 'a', 'j', 'f', 'l']\"\n",
      "\n",
      "Remaining word count 3\n",
      "[['odour', 0.0], ['scour', 0.0], ['usour', 0.0]]\n"
     ]
    }
   ],
   "source": [
    "if game.round_num in [0]:\n",
    "    allow_dupe_letters = False\n",
    "else:\n",
    "    allow_dupe_letters = True\n",
    "\n",
    "guesses = {\n",
    "    1: [\"their\", \"ggggc\"],\n",
    "    2: [\"major\", \"gggyc\"],\n",
    "    3: [\"flour\", \"ggccc\"],\n",
    "    4: [\"\", \"\"],\n",
    "    5: [\"\", \"\"],\n",
    "    6: [\"\", \"\"],\n",
    "}\n",
    "\n",
    "game.new_round(guesses)  # round_num = X)\n",
    "if guesses[game.round_num][1] != \"ccccc\" and game.round_num < 6:\n",
    "    game.recommend_next(allow_dupe_letters, options=20, display=20)\n"
   ]
  },
  {
   "cell_type": "code",
   "execution_count": 147,
   "id": "e02d6572-50d2-40e5-9ee8-4661cecd4dc2",
   "metadata": {},
   "outputs": [
    {
     "name": "stdout",
     "output_type": "stream",
     "text": [
      "{'date': datetime.date(2022, 4, 9), 'winning_round': 0, 'word1': 'arose', 'w1_score': 'yygyg', 'word2': 'cards', 'w2_score': 'gyygy', 'word3': 'start', 'w3_score': 'cccyg', 'word4': '', 'w4_score': '', 'word5': '', 'w5_score': '', 'word6': '', 'w6_score': ''}\n"
     ]
    }
   ],
   "source": [
    "print(game.results)"
   ]
  },
  {
   "cell_type": "code",
   "execution_count": null,
   "id": "4357de44-0a36-4511-9953-8dbe25bcab85",
   "metadata": {},
   "outputs": [],
   "source": []
  }
 ],
 "metadata": {
  "kernelspec": {
   "display_name": "Python 3 (ipykernel)",
   "language": "python",
   "name": "python3"
  },
  "language_info": {
   "codemirror_mode": {
    "name": "ipython",
    "version": 3
   },
   "file_extension": ".py",
   "mimetype": "text/x-python",
   "name": "python",
   "nbconvert_exporter": "python",
   "pygments_lexer": "ipython3",
   "version": "3.9.10"
  }
 },
 "nbformat": 4,
 "nbformat_minor": 5
}
