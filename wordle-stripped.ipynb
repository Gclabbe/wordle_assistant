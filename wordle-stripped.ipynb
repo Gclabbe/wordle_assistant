{
 "cells": [
  {
   "cell_type": "code",
   "execution_count": 1,
   "id": "8c215f48-f42b-4ed7-8450-016571eb495e",
   "metadata": {
    "tags": []
   },
   "outputs": [],
   "source": [
    "import pandas as pd\n",
    "from collections import Counter\n",
    "import pprint as pp\n"
   ]
  },
  {
   "cell_type": "code",
   "execution_count": 36,
   "id": "31a7d0ac-be46-4e14-ac8c-bc1ca8dbbede",
   "metadata": {},
   "outputs": [],
   "source": [
    "class wordle_game:\n",
    "    \n",
    "    def __init__(self):\n",
    "        self.round_num = 0\n",
    "        self.word_letters = {\n",
    "            0: { 'is': None, 'is_not': [] },\n",
    "            1: { 'is': None, 'is_not': [] },\n",
    "            2: { 'is': None, 'is_not': [] },\n",
    "            3: { 'is': None, 'is_not': [] },\n",
    "            4: { 'is': None, 'is_not': [] },           \n",
    "        }\n",
    "        self.good_letters = []\n",
    "        self.bad_letters = []\n",
    "    \n",
    "    def load_data(self, folder, filename):\n",
    "        self.words = pd.read_csv(f\"{folder}{filename}\")\n",
    "        print(f\"Words in corpus {self.words.shape[0]}\")\n",
    "\n",
    "    def prep_data(self):\n",
    "        self.new_words = self.words[self.words['word'].str.len() == 5].copy().reset_index()\n",
    "\n",
    "        total_count = sum(self.new_words['count'])\n",
    "        probs = [x / total_count for x in self.new_words['count']]\n",
    "        self.new_words['prob'] = probs\n",
    "\n",
    "        print(f\"Count of 5 Letter Words {self.new_words.shape[0]}\")\n",
    "        print(\"Highest frequency 5 letter words\")\n",
    "        print(self.new_words.head(10))\n",
    "\n",
    "        self.get_letter_freq()\n",
    "        print(\"Highest frequency letters\")\n",
    "        print(self.letter_freq.most_common(10))\n",
    "        \n",
    "    def recommend_next(self, options=50, display=10, allow_dupe_letters=True):\n",
    "        # compute score for each of the top X words\n",
    "        ranked_words = []\n",
    "        print(f\"\\nRemaining word count {self.new_words.shape[0]}\")\n",
    "        \n",
    "        for index, this_row in self.new_words[:options].iterrows():\n",
    "            score = 0\n",
    "            this_word = this_row['word']\n",
    "\n",
    "            c = Counter(this_word)\n",
    "            if allow_dupe_letters or max(c.values()) == 1:\n",
    "                for i in range(5):\n",
    "                    score += self.letter_freq[this_word[i]]\n",
    "\n",
    "            score = round(score * this_row['prob'], 0)\n",
    "            ranked_words.append([this_word, score])\n",
    "\n",
    "        print(pd.DataFrame(ranked_words).sort_values(by=[1], ascending=False).head(display))\n",
    "              \n",
    "    def get_letter_freq(self):\n",
    "        all_words = \"\".join(self.new_words['word'])\n",
    "        self.letter_freq = Counter(all_words)\n",
    "\n",
    "    def build_rules(self, word, results):\n",
    "        for i in range(5):\n",
    "            result = results[i]\n",
    "            letter = word[i]\n",
    "\n",
    "            if result == 'c':\n",
    "                self.word_letters[i]['is'] = letter\n",
    "                if letter not in self.good_letters:\n",
    "                    self.good_letters.append(letter)\n",
    "            elif result == 'y':\n",
    "                self.word_letters[i]['is_not'].append(letter)\n",
    "                if letter not in self.good_letters:\n",
    "                    self.good_letters.append(letter)\n",
    "            else:\n",
    "                if letter not in self.bad_letters:\n",
    "                    self.bad_letters.append(letter)\n",
    "\n",
    "    def remove_bad_words(self):\n",
    "        pattern = \"\"\n",
    "        for i in range(len(self.bad_letters)-1):\n",
    "            pattern += f\"{self.bad_letters[i]}|\"\n",
    "        pattern += f\"{self.bad_letters[-1]}\"\n",
    "        self.new_words = self.new_words[~self.new_words['word'].str.contains(pattern, case=False)]\n",
    "\n",
    "    def words_with_good_letters(self):\n",
    "        # cut down to only the words containing all of the good letters\n",
    "        for i in range(len(self.good_letters)):\n",
    "            self.new_words = self.new_words[self.new_words['word'].str.contains(self.good_letters[i], case=False)]\n",
    "        # self.new_words.reset_index(inplace=True)\n",
    "        \n",
    "    def letters_in_correct_place(self):\n",
    "        # now we can iterate across this smaller list to check placement of the correct letters\n",
    "        keep_rows = []\n",
    "        for _, row in self.new_words.iterrows():\n",
    "            keep = True\n",
    "            for i in range(5):\n",
    "                if self.word_letters[i]['is'] != None:\n",
    "                    if row['word'][i] != self.word_letters[i]['is']:\n",
    "                         keep = False\n",
    "                elif row['word'][i] in self.word_letters[i]['is_not']:\n",
    "                    keep=False\n",
    "\n",
    "            if keep:\n",
    "                keep_rows.append(row)\n",
    "\n",
    "        self.new_words = pd.DataFrame(keep_rows)\n",
    "\n",
    "    def show_results(self):\n",
    "        print(f\"\\nRound Number {self.round_num}\")\n",
    "        print(\"\\n\")\n",
    "        print(f\"Correct= {self.word_letters}\")\n",
    "        print(f\"Good\\t= {self.good_letters}\")\n",
    "        print(f\"Bad\\t= {self.bad_letters}\")\n",
    "        # print(f\"\\tRemaining Words = {self.new_words.shape[0]}\")\n",
    "        # print(self.letter_freq.most_common(10))\n",
    "        # print(self.new_words.head(10))\n",
    "        \n",
    "    def new_round(self, word, results, round_num):\n",
    "        self.round_num = round_num\n",
    "\n",
    "        if results == 'ccccc':\n",
    "            print(f\"\\nCongrats!  Victory in round {self.round_num}\")\n",
    "        else:\n",
    "            self.build_rules(word, results)\n",
    "            self.remove_bad_words()\n",
    "            self.words_with_good_letters()\n",
    "            self.letters_in_correct_place()\n",
    "            self.get_letter_freq()\n",
    "            self.show_results()\n"
   ]
  },
  {
   "cell_type": "code",
   "execution_count": 37,
   "id": "7f129295-1fde-48d2-90dc-f2a48316d030",
   "metadata": {},
   "outputs": [],
   "source": [
    "data_folder = 'data\\\\'\n",
    "kaggle_file = 'unigram_freq.csv'\n"
   ]
  },
  {
   "cell_type": "code",
   "execution_count": 38,
   "id": "a8e2bfd9-dcbe-43a9-b09c-2830cfbca2fc",
   "metadata": {},
   "outputs": [
    {
     "name": "stdout",
     "output_type": "stream",
     "text": [
      "Words in corpus 333333\n",
      "Count of 5 Letter Words 39933\n",
      "Highest frequency 5 letter words\n",
      "   index   word       count      prob\n",
      "0     35  about  1226734006  0.017723\n",
      "1     45  other   978481319  0.014136\n",
      "2     56  which   810514085  0.011709\n",
      "3     57  their   782849411  0.011310\n",
      "4     62  there   701170205  0.010130\n",
      "5     82  first   578161543  0.008353\n",
      "6     85  would   572644147  0.008273\n",
      "7     92  these   541003982  0.007816\n",
      "8     93  click   536746424  0.007754\n",
      "9    100  price   501651226  0.007247\n",
      "Highest frequency letters\n",
      "[('a', 21942), ('e', 18907), ('o', 14627), ('i', 13749), ('s', 13683), ('r', 12185), ('n', 11447), ('l', 10375), ('t', 9856), ('c', 7422)]\n",
      "\n",
      "Remaining word count 39933\n",
      "        0       1\n",
      "0   about  1032.0\n",
      "1   other   865.0\n",
      "3   their   682.0\n",
      "11  email   461.0\n",
      "5   first   440.0\n",
      "9   price   419.0\n",
      "14  after   356.0\n",
      "19  years   348.0\n",
      "6   would   341.0\n",
      "21  items   302.0\n"
     ]
    }
   ],
   "source": [
    "game = wordle_game()\n",
    "game.load_data(data_folder, kaggle_file)\n",
    "game.prep_data()\n",
    "game.recommend_next(allow_dupe_letters=False)\n"
   ]
  },
  {
   "cell_type": "code",
   "execution_count": 39,
   "id": "0c40d954-de06-4036-84cf-84f7eb1c48d5",
   "metadata": {},
   "outputs": [
    {
     "name": "stdout",
     "output_type": "stream",
     "text": [
      "\n",
      "Round Number 1\n",
      "\n",
      "\n",
      "Correct= {0: {'is': None, 'is_not': ['e']}, 1: {'is': None, 'is_not': []}, 2: {'is': None, 'is_not': []}, 3: {'is': None, 'is_not': []}, 4: {'is': None, 'is_not': []}}\n",
      "Good\t= ['e']\n",
      "Bad\t= ['m', 'a', 'i', 'l']\n",
      "\n",
      "Remaining word count 4474\n",
      "        0      1\n",
      "0   other  163.0\n",
      "6   store   53.0\n",
      "5   under   49.0\n",
      "7   those   44.0\n",
      "8   phone   38.0\n",
      "10  house   36.0\n",
      "11  power   35.0\n",
      "16  quote   20.0\n",
      "17  poker   20.0\n",
      "4   order    0.0\n",
      "3   where    0.0\n",
      "2   these    0.0\n",
      "9   check    0.0\n",
      "1   there    0.0\n",
      "12  three    0.0\n",
      "13  press    0.0\n",
      "14  never    0.0\n",
      "15  users    0.0\n",
      "18  offer    0.0\n",
      "19  needs    0.0\n"
     ]
    }
   ],
   "source": [
    "game.new_round('email', 'yxxxx', round_num=1)\n",
    "game.recommend_next(options=20, display=20, allow_dupe_letters=False)\n"
   ]
  },
  {
   "cell_type": "code",
   "execution_count": 40,
   "id": "32979e3d-7283-4ef5-a08f-a33e61d996ef",
   "metadata": {},
   "outputs": [
    {
     "name": "stdout",
     "output_type": "stream",
     "text": [
      "\n",
      "Round Number 2\n",
      "\n",
      "\n",
      "Correct= {0: {'is': None, 'is_not': ['e']}, 1: {'is': 't', 'is_not': []}, 2: {'is': None, 'is_not': ['o']}, 3: {'is': None, 'is_not': ['r']}, 4: {'is': None, 'is_not': ['e']}}\n",
      "Good\t= ['e', 't', 'o', 'r']\n",
      "Bad\t= ['m', 'a', 'i', 'l', 's']\n",
      "\n",
      "Remaining word count 3\n",
      "       0    1\n",
      "0  other  0.0\n",
      "1  otter  0.0\n",
      "2  otehr  0.0\n"
     ]
    }
   ],
   "source": [
    "game.new_round('store', 'xcyyy', round_num=2)\n",
    "game.recommend_next(options=20, display=20)\n"
   ]
  },
  {
   "cell_type": "code",
   "execution_count": 7,
   "id": "6b55a9f6-f3c4-45ed-b8fb-26ef13d1fa44",
   "metadata": {},
   "outputs": [
    {
     "name": "stdout",
     "output_type": "stream",
     "text": [
      "\n",
      "Congrats!  Victory in round 3\n",
      "\n",
      "Remaining word count 3\n",
      "       0   1\n",
      "1  otter  17\n",
      "0  other  15\n",
      "2  otehr  15\n"
     ]
    }
   ],
   "source": [
    "game.new_round('other', 'ccccc', round_num=3)\n",
    "game.recommend_next(options=20, display=20)\n"
   ]
  },
  {
   "cell_type": "code",
   "execution_count": null,
   "id": "3b3b687e-2c78-42ce-865f-773099cda083",
   "metadata": {},
   "outputs": [],
   "source": [
    "game.new_round('spill', 'cxccc')\n"
   ]
  },
  {
   "cell_type": "code",
   "execution_count": null,
   "id": "2b2745af-dc41-4e67-a04c-fb07a0a57ba0",
   "metadata": {},
   "outputs": [],
   "source": [
    "game.new_round('swill', 'ccccc')"
   ]
  },
  {
   "cell_type": "code",
   "execution_count": null,
   "id": "1371afd2-ca9f-4609-a964-5492dd3d6cb0",
   "metadata": {},
   "outputs": [],
   "source": []
  }
 ],
 "metadata": {
  "kernelspec": {
   "display_name": "Python 3 (ipykernel)",
   "language": "python",
   "name": "python3"
  },
  "language_info": {
   "codemirror_mode": {
    "name": "ipython",
    "version": 3
   },
   "file_extension": ".py",
   "mimetype": "text/x-python",
   "name": "python",
   "nbconvert_exporter": "python",
   "pygments_lexer": "ipython3",
   "version": "3.9.7"
  }
 },
 "nbformat": 4,
 "nbformat_minor": 5
}
